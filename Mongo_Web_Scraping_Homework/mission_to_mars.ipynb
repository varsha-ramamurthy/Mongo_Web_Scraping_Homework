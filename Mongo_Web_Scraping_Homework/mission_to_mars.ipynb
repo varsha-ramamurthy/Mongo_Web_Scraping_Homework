{
 "cells": [
  {
   "cell_type": "code",
   "execution_count": 1,
   "metadata": {},
   "outputs": [],
   "source": [
    "# import all dependencies\n",
    "import time\n",
    "import pandas as pd\n",
    "from bs4 import BeautifulSoup\n",
    "from splinter import Browser\n",
    "executable_path = {\"executable_path\": \"chromedriver.exe\"}\n",
    "browser = Browser(\"chrome\", **executable_path, headless=False)"
   ]
  },
  {
   "cell_type": "code",
   "execution_count": 2,
   "metadata": {},
   "outputs": [
    {
     "name": "stdout",
     "output_type": "stream",
     "text": [
      "Small Satellite Mission of the Year\n",
      "The first interplanetary CubeSats were recognized by the engineering community with the 2019 Small Satellite Mission of the Year award.\n"
     ]
    }
   ],
   "source": [
    "# Scrape the NASA Mars News site\n",
    "nasa_mars_url = 'https://mars.nasa.gov/news/'\n",
    "browser.visit(nasa_mars_url)\n",
    "time.sleep(1)\n",
    "nasa_mars_html = browser.html\n",
    "nasa_mars_soup = BeautifulSoup(nasa_mars_html, 'html.parser')\n",
    "\n",
    "news_list = nasa_mars_soup.find('ul', class_='item_list')\n",
    "first_item = news_list.find('li', class_='slide')\n",
    "nasa_mars_headline = first_item.find('div', class_='content_title').text\n",
    "nasa_mars_para = first_item.find('div', class_='article_teaser_body').text\n",
    "print(nasa_mars_headline)\n",
    "print(nasa_mars_para)"
   ]
  },
  {
   "cell_type": "code",
   "execution_count": 3,
   "metadata": {},
   "outputs": [
    {
     "name": "stdout",
     "output_type": "stream",
     "text": [
      "https://www.jpl.nasa.gov/spaceimages/images/mediumsize/PIA18185_ip.jpg\n"
     ]
    }
   ],
   "source": [
    "# visit the JPL website and scrape the featured image\n",
    "featured_image_url = 'https://www.jpl.nasa.gov/spaceimages/?search=&category=Mars'\n",
    "browser.visit(featured_image_url)\n",
    "time.sleep(1)\n",
    "browser.click_link_by_partial_text('FULL IMAGE')\n",
    "time.sleep(1)\n",
    "expand = browser.find_by_css('a.fancybox-expand')\n",
    "expand.click()\n",
    "time.sleep(1)\n",
    "\n",
    "featured_image_html = browser.html\n",
    "featured_image_soup = BeautifulSoup(featured_image_html, 'html.parser')\n",
    "\n",
    "featured_image_relative = featured_image_soup.find('img', class_='fancybox-image')['src']\n",
    "featured_image_path = f'https://www.jpl.nasa.gov{featured_image_relative}'\n",
    "print(featured_image_path)"
   ]
  },
  {
   "cell_type": "code",
   "execution_count": 4,
   "metadata": {},
   "outputs": [
    {
     "name": "stdout",
     "output_type": "stream",
     "text": [
      "InSight sol 247 (2019-08-07) low -100.4ºC (-148.7ºF) high -26.5ºC (-15.8ºF)\n",
      "winds from the SSE at 4.6 m/s (10.3 mph) gusting to 16.8 m/s (37.6 mph)\n",
      "pressure at 7.60 hPa\n"
     ]
    }
   ],
   "source": [
    "# visit the mars weather report twitter and scrape the latest tweet\n",
    "mars_weather_url = 'https://twitter.com/marswxreport?lang=en'\n",
    "browser.visit(mars_weather_url)\n",
    "time.sleep(1)\n",
    "mars_weather_html = browser.html\n",
    "mars_weather_soup = BeautifulSoup(mars_weather_html, 'html.parser')\n",
    "\n",
    "mars_weather_twitter = mars_weather_soup.find('ol', class_='stream-items')\n",
    "mars_weather = mars_weather_twitter.find('p', class_=\"tweet-text\").text\n",
    "print(mars_weather)"
   ]
  },
  {
   "cell_type": "code",
   "execution_count": 5,
   "metadata": {
    "scrolled": true
   },
   "outputs": [],
   "source": [
    "# visit space facts and scrap the mars facts table\n",
    "mars_facts_url = 'https://space-facts.com/mars/'\n",
    "browser.visit(mars_facts_url)\n",
    "time.sleep(1)\n",
    "mars_facts_html = browser.html\n",
    "mars_facts_soup = BeautifulSoup(mars_facts_html, 'html.parser')\n",
    "#mars_facts_soup.select_one(\"\")"
   ]
  },
  {
   "cell_type": "code",
   "execution_count": 6,
   "metadata": {},
   "outputs": [
    {
     "name": "stdout",
     "output_type": "stream",
     "text": [
      "<table class=\"tablepress tablepress-id-comp-mars blue-table\" id=\"tablepress-comp-mars\"><thead><tr class=\"row-1\"><th class=\"column-1\"><strong>Mars - Earth Comparison</strong></th><th class=\"column-2\"><span class=\"mars\">Mars</span></th><th class=\"column-3\"><span class=\"earth\">Earth</span></th></tr></thead><tbody><tr class=\"row-2\"><td class=\"column-1\">Diameter:</td><td class=\"column-2\"><span class=\"mars-s\">6,779 km</span></td><td class=\"column-3\"><span class=\"earth-s\">12,742 km</span></td></tr><tr class=\"row-3\"><td class=\"column-1\">Mass:</td><td class=\"column-2\"><span class=\"mars-s\">6.39 × 10^23 kg</span></td><td class=\"column-3\"><span class=\"earth-s\">5.97 × 10^24 kg</span></td></tr><tr class=\"row-4\"><td class=\"column-1\">Moons:</td><td class=\"column-2\"><span class=\"mars-s\">2</span></td><td class=\"column-3\"><span class=\"earth-s\">1</span></td></tr><tr class=\"row-5\"><td class=\"column-1\">Distance from Sun:</td><td class=\"column-2\"><span class=\"mars-s\">227,943,824 km</span></td><td class=\"column-3\"><span class=\"earth-s\">149,598,262 km</span></td></tr><tr class=\"row-6\"><td class=\"column-1\">Length of Year:</td><td class=\"column-2\"><span class=\"mars-s\">687 Earth days</span></td><td class=\"column-3\"><span class=\"earth-s\">365.24 days</span></td></tr><tr class=\"row-7\"><td class=\"column-1\">Temperature:</td><td class=\"column-2\"><span class=\"mars-s\">-153 to 20 °C</span></td><td class=\"column-3\"><span class=\"earth-s\">-88 to 58°C</span></td></tr></tbody></table>\n",
      "<table class=\"tablepress tablepress-id-comp-mars blue-table\" id=\"tablepress-comp-mars\"><thead><tr class=\"row-1\"><th class=\"column-1\"><strong>Mars - Earth Comparison</strong></th><th class=\"column-2\"><span class=\"mars\">Mars</span></th><th class=\"column-3\"><span class=\"earth\">Earth</span></th></tr></thead><tbody><tr class=\"row-2\"><td class=\"column-1\">Diameter:</td><td class=\"column-2\"><span class=\"mars-s\">6,779 km</span></td><td class=\"column-3\"><span class=\"earth-s\">12,742 km</span></td></tr><tr class=\"row-3\"><td class=\"column-1\">Mass:</td><td class=\"column-2\"><span class=\"mars-s\">6.39 × 10^23 kg</span></td><td class=\"column-3\"><span class=\"earth-s\">5.97 × 10^24 kg</span></td></tr><tr class=\"row-4\"><td class=\"column-1\">Moons:</td><td class=\"column-2\"><span class=\"mars-s\">2</span></td><td class=\"column-3\"><span class=\"earth-s\">1</span></td></tr><tr class=\"row-5\"><td class=\"column-1\">Distance from Sun:</td><td class=\"column-2\"><span class=\"mars-s\">227,943,824 km</span></td><td class=\"column-3\"><span class=\"earth-s\">149,598,262 km</span></td></tr><tr class=\"row-6\"><td class=\"column-1\">Length of Year:</td><td class=\"column-2\"><span class=\"mars-s\">687 Earth days</span></td><td class=\"column-3\"><span class=\"earth-s\">365.24 days</span></td></tr><tr class=\"row-7\"><td class=\"column-1\">Temperature:</td><td class=\"column-2\"><span class=\"mars-s\">-153 to 20 °C</span></td><td class=\"column-3\"><span class=\"earth-s\">-88 to 58°C</span></td></tr></tbody></table>\n"
     ]
    },
    {
     "data": {
      "text/html": [
       "<div>\n",
       "<style scoped>\n",
       "    .dataframe tbody tr th:only-of-type {\n",
       "        vertical-align: middle;\n",
       "    }\n",
       "\n",
       "    .dataframe tbody tr th {\n",
       "        vertical-align: top;\n",
       "    }\n",
       "\n",
       "    .dataframe thead th {\n",
       "        text-align: right;\n",
       "    }\n",
       "</style>\n",
       "<table border=\"1\" class=\"dataframe\">\n",
       "  <thead>\n",
       "    <tr style=\"text-align: right;\">\n",
       "      <th></th>\n",
       "      <th>Facet</th>\n",
       "      <th>Value</th>\n",
       "    </tr>\n",
       "  </thead>\n",
       "  <tbody>\n",
       "    <tr>\n",
       "      <th>0</th>\n",
       "      <td>Diameter:</td>\n",
       "      <td>6,779 km</td>\n",
       "    </tr>\n",
       "    <tr>\n",
       "      <th>1</th>\n",
       "      <td>Mass:</td>\n",
       "      <td>6.39 × 10^23 kg</td>\n",
       "    </tr>\n",
       "    <tr>\n",
       "      <th>2</th>\n",
       "      <td>Moons:</td>\n",
       "      <td>2</td>\n",
       "    </tr>\n",
       "    <tr>\n",
       "      <th>3</th>\n",
       "      <td>Distance from Sun:</td>\n",
       "      <td>227,943,824 km</td>\n",
       "    </tr>\n",
       "    <tr>\n",
       "      <th>4</th>\n",
       "      <td>Length of Year:</td>\n",
       "      <td>687 Earth days</td>\n",
       "    </tr>\n",
       "    <tr>\n",
       "      <th>5</th>\n",
       "      <td>Temperature:</td>\n",
       "      <td>-153 to 20 °C</td>\n",
       "    </tr>\n",
       "  </tbody>\n",
       "</table>\n",
       "</div>"
      ],
      "text/plain": [
       "                Facet            Value\n",
       "0           Diameter:         6,779 km\n",
       "1               Mass:  6.39 × 10^23 kg\n",
       "2              Moons:                2\n",
       "3  Distance from Sun:   227,943,824 km\n",
       "4     Length of Year:   687 Earth days\n",
       "5        Temperature:    -153 to 20 °C"
      ]
     },
     "execution_count": 6,
     "metadata": {},
     "output_type": "execute_result"
    }
   ],
   "source": [
    "mars_facts_table = mars_facts_soup.find('table', class_='tablepress tablepress-id-comp-mars blue-table')\n",
    "print(mars_facts_table)\n",
    "column1 = mars_facts_table.find_all('td', class_='column-1')\n",
    "column2 = mars_facts_table.find_all('td', class_='column-2')\n",
    "\n",
    "facets = []\n",
    "values = []\n",
    "\n",
    "for row in column1:\n",
    "    facet = row.text.strip()\n",
    "    facets.append(facet)\n",
    "    \n",
    "for row in column2:\n",
    "    value = row.text.strip()\n",
    "    values.append(value)\n",
    "    \n",
    "mars_facts = pd.DataFrame({\n",
    "    \"Facet\":facets,\n",
    "    \"Value\":values\n",
    "    })\n",
    "\n",
    "mars_facts_html = mars_facts.to_html(header=False, index=False)\n",
    "mars_facts"
   ]
  },
  {
   "cell_type": "code",
   "execution_count": 7,
   "metadata": {},
   "outputs": [
    {
     "name": "stdout",
     "output_type": "stream",
     "text": [
      "Cerberus Hemisphere \n",
      "https://astropedia.astrogeology.usgs.gov/download/Mars/Viking/cerberus_enhanced.tif/full.jpg\n",
      "Schiaparelli Hemisphere \n",
      "https://astropedia.astrogeology.usgs.gov/download/Mars/Viking/schiaparelli_enhanced.tif/full.jpg\n",
      "Syrtis Major Hemisphere \n",
      "https://astropedia.astrogeology.usgs.gov/download/Mars/Viking/syrtis_major_enhanced.tif/full.jpg\n",
      "Valles Marineris Hemisphere \n",
      "https://astropedia.astrogeology.usgs.gov/download/Mars/Viking/valles_marineris_enhanced.tif/full.jpg\n"
     ]
    }
   ],
   "source": [
    "# scrape images of Mars' hemispheres from the USGS site\n",
    "mars_hemisphere_url = 'https://astrogeology.usgs.gov/search/results?q=hemisphere+enhanced&k1=target&v1=Mars'\n",
    "mars_hemisphere_dicts = []\n",
    "\n",
    "for i in range(1,9,2):\n",
    "    mars_hemisphere_dict = {}\n",
    "    \n",
    "    browser.visit(mars_hemisphere_url)\n",
    "    time.sleep(1)\n",
    "    mars_hemisphere_html = browser.html\n",
    "    mars_hemisphere_soup = BeautifulSoup(mars_hemisphere_html, 'html.parser')\n",
    "    mars_hemisphere_name_links = mars_hemisphere_soup.find_all('a', class_='product-item')\n",
    "    mars_hemisphere_name = mars_hemisphere_name_links[i].text.strip('Enhanced')\n",
    "    \n",
    "    detail_links = browser.find_by_css('a.product-item')\n",
    "    detail_links[i].click()\n",
    "    time.sleep(1)\n",
    "    browser.find_link_by_text('Sample').first.click()\n",
    "    time.sleep(1)\n",
    "    browser.windows.current = browser.windows[-1]\n",
    "    mars_hemisphere_img_html = browser.html\n",
    "    browser.windows.current = browser.windows[0]\n",
    "    browser.windows[-1].close()\n",
    "    \n",
    "    mars_hemisphere_img_soup = BeautifulSoup(mars_hemisphere_img_html, 'html.parser')\n",
    "    mars_hemisphere_img_path = mars_hemisphere_img_soup.find('img')['src']\n",
    "\n",
    "    print(mars_hemisphere_name)\n",
    "    mars_hemisphere_dict['title'] = mars_hemisphere_name.strip()\n",
    "    \n",
    "    print(mars_hemisphere_img_path)\n",
    "    mars_hemisphere_dict['img_url'] = mars_hemisphere_img_path\n",
    "\n",
    "    mars_hemisphere_dicts.append(mars_hemisphere_dict)"
   ]
  },
  {
   "cell_type": "code",
   "execution_count": null,
   "metadata": {},
   "outputs": [],
   "source": []
  }
 ],
 "metadata": {
  "kernelspec": {
   "display_name": "Python 3",
   "language": "python",
   "name": "python3"
  },
  "language_info": {
   "codemirror_mode": {
    "name": "ipython",
    "version": 3
   },
   "file_extension": ".py",
   "mimetype": "text/x-python",
   "name": "python",
   "nbconvert_exporter": "python",
   "pygments_lexer": "ipython3",
   "version": "3.7.3"
  }
 },
 "nbformat": 4,
 "nbformat_minor": 2
}
